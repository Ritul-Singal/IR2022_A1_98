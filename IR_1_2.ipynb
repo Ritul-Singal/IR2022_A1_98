{
  "nbformat": 4,
  "nbformat_minor": 0,
  "metadata": {
    "colab": {
      "name": "IR_1_2.ipynb",
      "provenance": [],
      "collapsed_sections": []
    },
    "kernelspec": {
      "name": "python3",
      "display_name": "Python 3"
    },
    "language_info": {
      "name": "python"
    },
    "widgets": {
      "application/vnd.jupyter.widget-state+json": {
        "6c84b323593a48ec9a8908a5c318eb3c": {
          "model_module": "@jupyter-widgets/controls",
          "model_name": "HBoxModel",
          "model_module_version": "1.5.0",
          "state": {
            "_view_name": "HBoxView",
            "_dom_classes": [],
            "_model_name": "HBoxModel",
            "_view_module": "@jupyter-widgets/controls",
            "_model_module_version": "1.5.0",
            "_view_count": null,
            "_view_module_version": "1.5.0",
            "box_style": "",
            "layout": "IPY_MODEL_5f4409b8829d41c3a1682948f23cc924",
            "_model_module": "@jupyter-widgets/controls",
            "children": [
              "IPY_MODEL_8d432c9ece1f47acad564184f7e3c4b0",
              "IPY_MODEL_ced63654ae234c709f17c46a42926de2",
              "IPY_MODEL_fffb26be71564632bedabaaa2188147b"
            ]
          }
        },
        "5f4409b8829d41c3a1682948f23cc924": {
          "model_module": "@jupyter-widgets/base",
          "model_name": "LayoutModel",
          "model_module_version": "1.2.0",
          "state": {
            "_view_name": "LayoutView",
            "grid_template_rows": null,
            "right": null,
            "justify_content": null,
            "_view_module": "@jupyter-widgets/base",
            "overflow": null,
            "_model_module_version": "1.2.0",
            "_view_count": null,
            "flex_flow": null,
            "width": null,
            "min_width": null,
            "border": null,
            "align_items": null,
            "bottom": null,
            "_model_module": "@jupyter-widgets/base",
            "top": null,
            "grid_column": null,
            "overflow_y": null,
            "overflow_x": null,
            "grid_auto_flow": null,
            "grid_area": null,
            "grid_template_columns": null,
            "flex": null,
            "_model_name": "LayoutModel",
            "justify_items": null,
            "grid_row": null,
            "max_height": null,
            "align_content": null,
            "visibility": null,
            "align_self": null,
            "height": null,
            "min_height": null,
            "padding": null,
            "grid_auto_rows": null,
            "grid_gap": null,
            "max_width": null,
            "order": null,
            "_view_module_version": "1.2.0",
            "grid_template_areas": null,
            "object_position": null,
            "object_fit": null,
            "grid_auto_columns": null,
            "margin": null,
            "display": null,
            "left": null
          }
        },
        "8d432c9ece1f47acad564184f7e3c4b0": {
          "model_module": "@jupyter-widgets/controls",
          "model_name": "HTMLModel",
          "model_module_version": "1.5.0",
          "state": {
            "_view_name": "HTMLView",
            "style": "IPY_MODEL_6255377a95f948f49c271026aea7ff94",
            "_dom_classes": [],
            "description": "",
            "_model_name": "HTMLModel",
            "placeholder": "​",
            "_view_module": "@jupyter-widgets/controls",
            "_model_module_version": "1.5.0",
            "value": "100%",
            "_view_count": null,
            "_view_module_version": "1.5.0",
            "description_tooltip": null,
            "_model_module": "@jupyter-widgets/controls",
            "layout": "IPY_MODEL_58beb55a899d4902954632f5fa5edd8f"
          }
        },
        "ced63654ae234c709f17c46a42926de2": {
          "model_module": "@jupyter-widgets/controls",
          "model_name": "FloatProgressModel",
          "model_module_version": "1.5.0",
          "state": {
            "_view_name": "ProgressView",
            "style": "IPY_MODEL_3fdb61e62a5e4786a0a7059ecc43658f",
            "_dom_classes": [],
            "description": "",
            "_model_name": "FloatProgressModel",
            "bar_style": "success",
            "max": 1133,
            "_view_module": "@jupyter-widgets/controls",
            "_model_module_version": "1.5.0",
            "value": 1133,
            "_view_count": null,
            "_view_module_version": "1.5.0",
            "orientation": "horizontal",
            "min": 0,
            "description_tooltip": null,
            "_model_module": "@jupyter-widgets/controls",
            "layout": "IPY_MODEL_29e82cf6eead4afa9b330c56a59c0cc7"
          }
        },
        "fffb26be71564632bedabaaa2188147b": {
          "model_module": "@jupyter-widgets/controls",
          "model_name": "HTMLModel",
          "model_module_version": "1.5.0",
          "state": {
            "_view_name": "HTMLView",
            "style": "IPY_MODEL_2af2400a26404119a704a584c41f7013",
            "_dom_classes": [],
            "description": "",
            "_model_name": "HTMLModel",
            "placeholder": "​",
            "_view_module": "@jupyter-widgets/controls",
            "_model_module_version": "1.5.0",
            "value": " 1133/1133 [33:10&lt;00:00,  3.54s/it]",
            "_view_count": null,
            "_view_module_version": "1.5.0",
            "description_tooltip": null,
            "_model_module": "@jupyter-widgets/controls",
            "layout": "IPY_MODEL_6631094b7cb4451e8ec5ebe4f9a2fb55"
          }
        },
        "6255377a95f948f49c271026aea7ff94": {
          "model_module": "@jupyter-widgets/controls",
          "model_name": "DescriptionStyleModel",
          "model_module_version": "1.5.0",
          "state": {
            "_view_name": "StyleView",
            "_model_name": "DescriptionStyleModel",
            "description_width": "",
            "_view_module": "@jupyter-widgets/base",
            "_model_module_version": "1.5.0",
            "_view_count": null,
            "_view_module_version": "1.2.0",
            "_model_module": "@jupyter-widgets/controls"
          }
        },
        "58beb55a899d4902954632f5fa5edd8f": {
          "model_module": "@jupyter-widgets/base",
          "model_name": "LayoutModel",
          "model_module_version": "1.2.0",
          "state": {
            "_view_name": "LayoutView",
            "grid_template_rows": null,
            "right": null,
            "justify_content": null,
            "_view_module": "@jupyter-widgets/base",
            "overflow": null,
            "_model_module_version": "1.2.0",
            "_view_count": null,
            "flex_flow": null,
            "width": null,
            "min_width": null,
            "border": null,
            "align_items": null,
            "bottom": null,
            "_model_module": "@jupyter-widgets/base",
            "top": null,
            "grid_column": null,
            "overflow_y": null,
            "overflow_x": null,
            "grid_auto_flow": null,
            "grid_area": null,
            "grid_template_columns": null,
            "flex": null,
            "_model_name": "LayoutModel",
            "justify_items": null,
            "grid_row": null,
            "max_height": null,
            "align_content": null,
            "visibility": null,
            "align_self": null,
            "height": null,
            "min_height": null,
            "padding": null,
            "grid_auto_rows": null,
            "grid_gap": null,
            "max_width": null,
            "order": null,
            "_view_module_version": "1.2.0",
            "grid_template_areas": null,
            "object_position": null,
            "object_fit": null,
            "grid_auto_columns": null,
            "margin": null,
            "display": null,
            "left": null
          }
        },
        "3fdb61e62a5e4786a0a7059ecc43658f": {
          "model_module": "@jupyter-widgets/controls",
          "model_name": "ProgressStyleModel",
          "model_module_version": "1.5.0",
          "state": {
            "_view_name": "StyleView",
            "_model_name": "ProgressStyleModel",
            "description_width": "",
            "_view_module": "@jupyter-widgets/base",
            "_model_module_version": "1.5.0",
            "_view_count": null,
            "_view_module_version": "1.2.0",
            "bar_color": null,
            "_model_module": "@jupyter-widgets/controls"
          }
        },
        "29e82cf6eead4afa9b330c56a59c0cc7": {
          "model_module": "@jupyter-widgets/base",
          "model_name": "LayoutModel",
          "model_module_version": "1.2.0",
          "state": {
            "_view_name": "LayoutView",
            "grid_template_rows": null,
            "right": null,
            "justify_content": null,
            "_view_module": "@jupyter-widgets/base",
            "overflow": null,
            "_model_module_version": "1.2.0",
            "_view_count": null,
            "flex_flow": null,
            "width": null,
            "min_width": null,
            "border": null,
            "align_items": null,
            "bottom": null,
            "_model_module": "@jupyter-widgets/base",
            "top": null,
            "grid_column": null,
            "overflow_y": null,
            "overflow_x": null,
            "grid_auto_flow": null,
            "grid_area": null,
            "grid_template_columns": null,
            "flex": null,
            "_model_name": "LayoutModel",
            "justify_items": null,
            "grid_row": null,
            "max_height": null,
            "align_content": null,
            "visibility": null,
            "align_self": null,
            "height": null,
            "min_height": null,
            "padding": null,
            "grid_auto_rows": null,
            "grid_gap": null,
            "max_width": null,
            "order": null,
            "_view_module_version": "1.2.0",
            "grid_template_areas": null,
            "object_position": null,
            "object_fit": null,
            "grid_auto_columns": null,
            "margin": null,
            "display": null,
            "left": null
          }
        },
        "2af2400a26404119a704a584c41f7013": {
          "model_module": "@jupyter-widgets/controls",
          "model_name": "DescriptionStyleModel",
          "model_module_version": "1.5.0",
          "state": {
            "_view_name": "StyleView",
            "_model_name": "DescriptionStyleModel",
            "description_width": "",
            "_view_module": "@jupyter-widgets/base",
            "_model_module_version": "1.5.0",
            "_view_count": null,
            "_view_module_version": "1.2.0",
            "_model_module": "@jupyter-widgets/controls"
          }
        },
        "6631094b7cb4451e8ec5ebe4f9a2fb55": {
          "model_module": "@jupyter-widgets/base",
          "model_name": "LayoutModel",
          "model_module_version": "1.2.0",
          "state": {
            "_view_name": "LayoutView",
            "grid_template_rows": null,
            "right": null,
            "justify_content": null,
            "_view_module": "@jupyter-widgets/base",
            "overflow": null,
            "_model_module_version": "1.2.0",
            "_view_count": null,
            "flex_flow": null,
            "width": null,
            "min_width": null,
            "border": null,
            "align_items": null,
            "bottom": null,
            "_model_module": "@jupyter-widgets/base",
            "top": null,
            "grid_column": null,
            "overflow_y": null,
            "overflow_x": null,
            "grid_auto_flow": null,
            "grid_area": null,
            "grid_template_columns": null,
            "flex": null,
            "_model_name": "LayoutModel",
            "justify_items": null,
            "grid_row": null,
            "max_height": null,
            "align_content": null,
            "visibility": null,
            "align_self": null,
            "height": null,
            "min_height": null,
            "padding": null,
            "grid_auto_rows": null,
            "grid_gap": null,
            "max_width": null,
            "order": null,
            "_view_module_version": "1.2.0",
            "grid_template_areas": null,
            "object_position": null,
            "object_fit": null,
            "grid_auto_columns": null,
            "margin": null,
            "display": null,
            "left": null
          }
        }
      }
    }
  },
  "cells": [
    {
      "cell_type": "code",
      "execution_count": null,
      "metadata": {
        "colab": {
          "base_uri": "https://localhost:8080/"
        },
        "id": "gjwS_-juBukm",
        "outputId": "dc3d0e97-d988-4613-e341-e6b5cb5f5509"
      },
      "outputs": [
        {
          "output_type": "stream",
          "name": "stdout",
          "text": [
            "Mounted at /content/drive\n",
            "[nltk_data] Downloading package stopwords to /root/nltk_data...\n",
            "[nltk_data]   Unzipping corpora/stopwords.zip.\n",
            "[nltk_data] Downloading package stopwords to /root/nltk_data...\n",
            "[nltk_data]   Package stopwords is already up-to-date!\n"
          ]
        }
      ],
      "source": [
        "from google.colab import drive\n",
        "drive.mount('/content/drive')\n",
        "import numpy as np\n",
        "import pandas as pd\n",
        "import nltk\n",
        "nltk.download(\"stopwords\")\n",
        "import nltk.corpus\n",
        "nltk.download('stopwords')\n",
        "from nltk.corpus import stopwords\n",
        "from tqdm.notebook import tqdm,tnrange\n",
        "import glob\n",
        "import os\n",
        "import json\n",
        "import string\n",
        "from functools import reduce\n",
        "from tabulate import tabulate\n",
        "from collections import defaultdict\n",
        "dictionary={}#dictionary \n"
      ]
    },
    {
      "cell_type": "code",
      "source": [
        "def preprocessing(file):\n",
        "  file=file.lower()\n",
        "  tokenizer = nltk.RegexpTokenizer(r\"\\w+\")\n",
        "  tokenized_text=tokenizer.tokenize(file)\n",
        "  stop_words = stopwords.words('english')\n",
        "  filtered_text = [i for i in tokenized_text if i not in stop_words]\n",
        "  validTokens = [''.join(ch for ch in x if ch.isalnum() and not ch.isdigit() and ch not in string.punctuation) for x in filtered_text]\n",
        "  preprocessedFile = [x for x in validTokens if len(x) > 1]\n",
        "  return preprocessedFile"
      ],
      "metadata": {
        "id": "6qRUUbLBDKA9"
      },
      "execution_count": null,
      "outputs": []
    },
    {
      "cell_type": "code",
      "source": [
        "def indexFile(text,docId):\n",
        "  for pos,val in enumerate(text):\n",
        "    if val in dictionary:\n",
        "       dictionary[val][0]+=1\n",
        "       if(docId in dictionary[val][1]):\n",
        "         dictionary[val][1][docId].append(pos)\n",
        "       else:\n",
        "          dictionary[val][1][docId]=[pos]\n",
        "    else:\n",
        "      dictionary[val]=[1,{docId:[pos]}]\n"
      ],
      "metadata": {
        "id": "x0t6pWrkgkC6"
      },
      "execution_count": null,
      "outputs": []
    },
    {
      "cell_type": "code",
      "source": [
        "files = os.walk(\"/content/drive/MyDrive/IR/Assignment-1/Humor,Hist,Media,Food\")\n",
        "filePaths = []\n",
        "for i in files:\n",
        "    for j in i[2]:\n",
        "        filePath = i[0] + \"/\" + j\n",
        "        filePaths.append(filePath)\n",
        "\n",
        "json.dump(filePaths, open(\"path_mapping.json\", \"w\"))"
      ],
      "metadata": {
        "id": "mwCV63eTBzAb"
      },
      "execution_count": null,
      "outputs": []
    },
    {
      "cell_type": "code",
      "source": [
        "for i,filePath in enumerate(tqdm(filePaths)):\n",
        "    try:\n",
        "        file = open(filePath, encoding=\"utf8\")\n",
        "        read = file.read().replace('\\n', ' ')    \n",
        "    except Exception as e:\n",
        "        file = open(filePath, encoding=\"unicode_escape\")\n",
        "        read = file.read().replace('\\n', ' ')\n",
        "    file.close()\n",
        "    read=preprocessing(read)\n",
        "    indexFile(read, i)\n",
        "    json.dump(dictionary, open('dictionary.json',\"w\"))\n",
        "    "
      ],
      "metadata": {
        "colab": {
          "base_uri": "https://localhost:8080/",
          "height": 49,
          "referenced_widgets": [
            "6c84b323593a48ec9a8908a5c318eb3c",
            "5f4409b8829d41c3a1682948f23cc924",
            "8d432c9ece1f47acad564184f7e3c4b0",
            "ced63654ae234c709f17c46a42926de2",
            "fffb26be71564632bedabaaa2188147b",
            "6255377a95f948f49c271026aea7ff94",
            "58beb55a899d4902954632f5fa5edd8f",
            "3fdb61e62a5e4786a0a7059ecc43658f",
            "29e82cf6eead4afa9b330c56a59c0cc7",
            "2af2400a26404119a704a584c41f7013",
            "6631094b7cb4451e8ec5ebe4f9a2fb55"
          ]
        },
        "id": "93SRuIZRCZQh",
        "outputId": "cf4dc803-54d5-4ae1-9d39-75a9c0a05efe"
      },
      "execution_count": null,
      "outputs": [
        {
          "output_type": "display_data",
          "data": {
            "application/vnd.jupyter.widget-view+json": {
              "model_id": "6c84b323593a48ec9a8908a5c318eb3c",
              "version_minor": 0,
              "version_major": 2
            },
            "text/plain": [
              "  0%|          | 0/1133 [00:00<?, ?it/s]"
            ]
          },
          "metadata": {}
        }
      ]
    },
    {
      "cell_type": "markdown",
      "source": [
        "# Query"
      ],
      "metadata": {
        "id": "aH0OJdisRjtv"
      }
    },
    {
      "cell_type": "code",
      "source": [
        "def commonDocIds(docIds):       \n",
        "  if len(docIds)==0:\n",
        "      return []\n",
        "  \n",
        "  docIds.sort(key=len)\n",
        "  return list(reduce(lambda x,y: set(x)&set(y),docIds))"
      ],
      "metadata": {
        "id": "A2O4vLLwRWO6"
      },
      "execution_count": null,
      "outputs": []
    },
    {
      "cell_type": "code",
      "source": [
        "def getMapping(files):\n",
        "  print('Total Documents:',len(files))\n",
        "  mapping=json.load(open('/content/drive/MyDrive/IR/Assignment-1/path_mapping.json'))\n",
        "  data= list(map(lambda i:(i,mapping[i]),files)) # list of tuples consisting of document id and their location\n",
        "  data.sort()  \n",
        "  print(tabulate(data,headers=['Document ID','Location']))"
      ],
      "metadata": {
        "id": "alZOgOIakavP"
      },
      "execution_count": null,
      "outputs": []
    },
    {
      "cell_type": "code",
      "source": [
        "def phraseQuery(phrase):\n",
        "  phrase=preprocessing(phrase)\n",
        "  for word in phrase:\n",
        "    #if term is not present in dictionary then return empty list \n",
        "    if word not in dictionary:\n",
        "      return []\n",
        "  \n",
        "  if(len(phrase)==1):\n",
        "    result=list(dictionary[phrase[0]][1].keys())\n",
        "    print(result)\n",
        "  else:\n",
        "      postingList=[]\n",
        "      for words in phrase:\n",
        "        temp=[]\n",
        "        for i in dictionary[words][1]:\n",
        "          temp.append([i,dictionary[words][1][i]])\n",
        "        postingList.append(temp)\n",
        "      docIds=[ [x[0] for x in p] for p in postingList ]\n",
        "      docIds= commonDocIds(docIds)\n",
        "      \n",
        "      for i in range(len(postingList)):\n",
        "        temp=[]\n",
        "        for id in postingList[i]:\n",
        "          if id[0] in docIds:\n",
        "            temp.append(id)\n",
        "        postingList[i]=temp    \n",
        "\n",
        "      for i in range(len(postingList)):\n",
        "        for j in range(len(postingList[i])):\n",
        "          temp=[]\n",
        "          for k in postingList[i][j][1]:\n",
        "            temp.append(k-i)\n",
        "          postingList[i][j][1]=temp\n",
        "\n",
        "      result=[]\n",
        "      for i in range(len(postingList[0])):\n",
        "        intersection=commonDocIds([x[i][1] for x in postingList])\n",
        "        if len(intersection)>0:\n",
        "          result.append(postingList[0][i][0]) \n",
        "\n",
        "  result=list(map(int,result))\n",
        "  print('Total Documents:',len(result))\n",
        "  mapping=json.load(open('/content/drive/MyDrive/IR/Assignment-1/path_mapping.json'))\n",
        "  data= list(map(lambda i:(i,mapping[i]),result)) # list of tuples consisting of document id and their location\n",
        "  data.sort()  \n",
        "  print(tabulate(data,headers=['Document ID','Location']))"
      ],
      "metadata": {
        "id": "h-aY9Zc7cDCO"
      },
      "execution_count": null,
      "outputs": []
    },
    {
      "cell_type": "code",
      "source": [
        "dictionary=json.load(open(\"/content/drive/MyDrive/IR/Assignment-1/dictionary.json\"))\n",
        "dictionary=defaultdict(lambda:[],dictionary)\n",
        "phrase=input()\n",
        "output=phraseQuery(phrase)"
      ],
      "metadata": {
        "id": "oPTJtDp7nH8s",
        "colab": {
          "base_uri": "https://localhost:8080/"
        },
        "outputId": "a2d80ad7-683f-4b8f-8d2f-19b4d2412728"
      },
      "execution_count": null,
      "outputs": [
        {
          "output_type": "stream",
          "name": "stdout",
          "text": [
            "patient requiring  intensive  care\n",
            "Total Documents: 1\n",
            "  Document ID  Location\n",
            "-------------  --------------------------------------------------------------------------------\n",
            "          439  /content/drive/MyDrive/IR/Humor,Hist,Media,Food/Humor,Hist,Media,Food/aclamt.txt\n"
          ]
        }
      ]
    },
    {
      "cell_type": "code",
      "source": [
        ""
      ],
      "metadata": {
        "id": "-a3enhrP6XY_"
      },
      "execution_count": null,
      "outputs": []
    }
  ]
}